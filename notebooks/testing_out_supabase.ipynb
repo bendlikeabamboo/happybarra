{
 "cells": [
  {
   "cell_type": "code",
   "execution_count": 1,
   "metadata": {},
   "outputs": [],
   "source": [
    "import os\n",
    "from supabase import create_client, Client\n",
    "from dotenv import load_dotenv"
   ]
  },
  {
   "cell_type": "code",
   "execution_count": 2,
   "metadata": {},
   "outputs": [],
   "source": [
    "load_dotenv()\n",
    "url: str = os.environ.get(\"SUPABASE_URL\")\n",
    "key: str = os.environ.get(\"SUPABASE_KEY\")\n",
    "supabase: Client = create_client(url, key)"
   ]
  },
  {
   "cell_type": "code",
   "execution_count": 3,
   "metadata": {},
   "outputs": [],
   "source": [
    "response = (\n",
    "    supabase.table(\"bank\")\n",
    "    .select(\"*\")\n",
    "    .eq(\"alias\",\"BPI\")\n",
    "    .execute()\n",
    ")"
   ]
  },
  {
   "cell_type": "code",
   "execution_count": 4,
   "metadata": {},
   "outputs": [],
   "source": [
    "response = (\n",
    "    supabase.table(\"credit_card\")\n",
    "    .select(\"*\")\n",
    "    .eq(\"bank_id\",\"22abb6ba-971e-426d-bd35-13449c9b9044\")\n",
    "    .eq(\"network_id\",\"27e61d89-c70c-4b7d-a8ff-9bbcdc516dba\")\n",
    "    .eq(\"name\",\"BPI Rewards Card\")\n",
    "    .execute()\n",
    ")"
   ]
  },
  {
   "cell_type": "code",
   "execution_count": 5,
   "metadata": {},
   "outputs": [
    {
     "data": {
      "text/plain": [
       "1"
      ]
     },
     "execution_count": 5,
     "metadata": {},
     "output_type": "execute_result"
    }
   ],
   "source": [
    "len(dict(response)[\"data\"])"
   ]
  },
  {
   "cell_type": "code",
   "execution_count": 7,
   "metadata": {},
   "outputs": [],
   "source": [
    "cc_id = \"80bc24fc-2cbf-45c3-93c4-9c455e6cbedf\"\n",
    "\n",
    "response = (\n",
    "    supabase.table(\"credit_card_instance\")\n",
    "    .insert({\"name\": \"Pluto\",\"credit_card_id\":cc_id,\"statement_day\":5,\"due_date_reference\":15})\n",
    "    .execute()\n",
    ")\n"
   ]
  },
  {
   "cell_type": "code",
   "execution_count": null,
   "metadata": {},
   "outputs": [
    {
     "data": {
      "text/plain": [
       "APIResponse[TypeVar](data=[{'id': '2db795f6-531d-470e-b8e2-3217d4239728', 'created_at': '2025-03-14T01:27:07.871668+00:00', 'due_date_reference': 15, 'credit_card_id': '80bc24fc-2cbf-45c3-93c4-9c455e6cbedf', 'statement_day': '5', 'name': 'Pluto'}], count=None)"
      ]
     },
     "execution_count": 8,
     "metadata": {},
     "output_type": "execute_result"
    },
    {
     "ename": "",
     "evalue": "",
     "output_type": "error",
     "traceback": [
      "\u001b[1;31mThe Kernel crashed while executing code in the current cell or a previous cell. \n",
      "\u001b[1;31mPlease review the code in the cell(s) to identify a possible cause of the failure. \n",
      "\u001b[1;31mClick <a href='https://aka.ms/vscodeJupyterKernelCrash'>here</a> for more info. \n",
      "\u001b[1;31mView Jupyter <a href='command:jupyter.viewOutput'>log</a> for further details."
     ]
    }
   ],
   "source": [
    "response"
   ]
  },
  {
   "cell_type": "code",
   "execution_count": null,
   "metadata": {},
   "outputs": [
    {
     "data": {
      "text/plain": [
       "{'data': [{'id': '80bc24fc-2cbf-45c3-93c4-9c455e6cbedf',\n",
       "   'created_at': '2025-03-11T00:25:17.442415+00:00',\n",
       "   'name': 'BPI Rewards Card',\n",
       "   'bank_id': '22abb6ba-971e-426d-bd35-13449c9b9044',\n",
       "   'network_id': '27e61d89-c70c-4b7d-a8ff-9bbcdc516dba',\n",
       "   'due_date_type': 'X_DAYS_AFTER',\n",
       "   'due_date_weekend_policy': 'NEXT_BANK_DAY',\n",
       "   'statement_date_weekend_policy': 'PREV_BANK_DAY',\n",
       "   'installment_bill_policy': 'ON_STATEMENT_DAY'}],\n",
       " 'count': None}"
      ]
     },
     "execution_count": 5,
     "metadata": {},
     "output_type": "execute_result"
    },
    {
     "ename": "",
     "evalue": "",
     "output_type": "error",
     "traceback": [
      "\u001b[1;31mThe Kernel crashed while executing code in the current cell or a previous cell. \n",
      "\u001b[1;31mPlease review the code in the cell(s) to identify a possible cause of the failure. \n",
      "\u001b[1;31mClick <a href='https://aka.ms/vscodeJupyterKernelCrash'>here</a> for more info. \n",
      "\u001b[1;31mView Jupyter <a href='command:jupyter.viewOutput'>log</a> for further details."
     ]
    }
   ],
   "source": [
    "dict(response)"
   ]
  },
  {
   "cell_type": "code",
   "execution_count": null,
   "metadata": {},
   "outputs": [
    {
     "data": {
      "text/plain": [
       "[{'id': '80bc24fc-2cbf-45c3-93c4-9c455e6cbedf',\n",
       "  'created_at': '2025-03-11T00:25:17.442415+00:00',\n",
       "  'name': 'BPI Rewards Card',\n",
       "  'bank_id': '22abb6ba-971e-426d-bd35-13449c9b9044',\n",
       "  'network_id': '27e61d89-c70c-4b7d-a8ff-9bbcdc516dba',\n",
       "  'due_date_type': 'X_DAYS_AFTER',\n",
       "  'due_date_weekend_policy': 'NEXT_BANK_DAY',\n",
       "  'statement_date_weekend_policy': 'PREV_BANK_DAY',\n",
       "  'installment_bill_policy': 'ON_STATEMENT_DAY'}]"
      ]
     },
     "execution_count": 14,
     "metadata": {},
     "output_type": "execute_result"
    },
    {
     "ename": "",
     "evalue": "",
     "output_type": "error",
     "traceback": [
      "\u001b[1;31mThe Kernel crashed while executing code in the current cell or a previous cell. \n",
      "\u001b[1;31mPlease review the code in the cell(s) to identify a possible cause of the failure. \n",
      "\u001b[1;31mClick <a href='https://aka.ms/vscodeJupyterKernelCrash'>here</a> for more info. \n",
      "\u001b[1;31mView Jupyter <a href='command:jupyter.viewOutput'>log</a> for further details."
     ]
    }
   ],
   "source": [
    "dict(response)[\"data\"]"
   ]
  },
  {
   "cell_type": "code",
   "execution_count": null,
   "metadata": {},
   "outputs": [],
   "source": [
    "response = (\n",
    "    supabase.table(\"credit_card_instance\")\n",
    "    .insert({\"id\": 1, \"name\": \"Pluto\"})\n",
    "    .execute()\n",
    ")"
   ]
  }
 ],
 "metadata": {
  "kernelspec": {
   "display_name": ".venv",
   "language": "python",
   "name": "python3"
  },
  "language_info": {
   "codemirror_mode": {
    "name": "ipython",
    "version": 3
   },
   "file_extension": ".py",
   "mimetype": "text/x-python",
   "name": "python",
   "nbconvert_exporter": "python",
   "pygments_lexer": "ipython3",
   "version": "3.13.2"
  }
 },
 "nbformat": 4,
 "nbformat_minor": 2
}
